{
 "cells": [
  {
   "cell_type": "code",
   "execution_count": 1,
   "id": "d03c332c-8f6a-482c-9af8-07a3f51e5d44",
   "metadata": {},
   "outputs": [
    {
     "name": "stdout",
     "output_type": "stream",
     "text": [
      "[('Virat Kohli', 24936), ('Jack Kallis', 25534), ('Ricky Ponting', 27483), ('Sachin Tendulkar', 34357)]\n",
      "[1, 4, 9, 16, 25, 36, 49, 64, 81, 100]\n",
      "['1', '2', '3', '4', '5', '6', '7', '8', '9', '10']\n",
      "3628800\n",
      "6\n",
      "60\n",
      "90\n",
      "120\n",
      "['php', 'aba', 'radar', 'level']\n"
     ]
    }
   ],
   "source": [
    "from functools import reduce\n",
    "\n",
    "#Answer1\n",
    "t=[('Sachin Tendulkar', 34357), ('Ricky Ponting', 27483), ('Jack Kallis', 25534), ('Virat Kohli', 24936)]\n",
    "t.sort(key=lambda x: x[1] , reverse=False)\n",
    "print(t)\n",
    "\n",
    "#Answer2\n",
    "l=[1, 2, 3, 4, 5, 6, 7, 8, 9, 10]\n",
    "l1=list(map(lambda x: x**2 , l))\n",
    "print(l1)\n",
    "\n",
    "#Answer3\n",
    "l=[1, 2, 3, 4, 5, 6, 7, 8, 9, 10]\n",
    "l1=list(map(lambda x: str(x) , l))\n",
    "print(l1)\n",
    "\n",
    "\n",
    "#Answer4\n",
    "l=[1, 2, 3, 4, 5, 6, 7, 8, 9, 10]\n",
    "l1=reduce(lambda x,y: x*y , l)\n",
    "print(l1)\n",
    "\n",
    "\n",
    "#Answer5\n",
    "def divi(*args):\n",
    "    for i in args:\n",
    "        if i%2==0 and i%3==0:\n",
    "            print(i)\n",
    "\n",
    "l=[2, 3, 6, 9, 27, 60, 90, 120, 55, 46]\n",
    "divi(*l)\n",
    "\n",
    "\n",
    "#Answer6\n",
    "l=['python', 'php', 'aba', 'radar', 'level']\n",
    "l1=list(filter(lambda x: x[0:]==x[::-1] , l))\n",
    "print(l1)\n",
    "\n"
   ]
  },
  {
   "cell_type": "code",
   "execution_count": null,
   "id": "9cf973b5-4fea-4b36-988a-23cde42e07fd",
   "metadata": {},
   "outputs": [],
   "source": []
  }
 ],
 "metadata": {
  "kernelspec": {
   "display_name": "Python 3 (ipykernel)",
   "language": "python",
   "name": "python3"
  },
  "language_info": {
   "codemirror_mode": {
    "name": "ipython",
    "version": 3
   },
   "file_extension": ".py",
   "mimetype": "text/x-python",
   "name": "python",
   "nbconvert_exporter": "python",
   "pygments_lexer": "ipython3",
   "version": "3.10.8"
  }
 },
 "nbformat": 4,
 "nbformat_minor": 5
}
