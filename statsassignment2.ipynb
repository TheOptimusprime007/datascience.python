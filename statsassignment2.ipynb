{
 "cells": [
  {
   "cell_type": "code",
   "execution_count": null,
   "id": "2cb51e3f-ecfe-43cc-b126-ab0552b99d81",
   "metadata": {},
   "outputs": [],
   "source": [
    "#3 measures of central tendency are:-\n",
    "#mean - average of the dataset\n",
    "#median - middle value in the dataset\n",
    "#mode - highest repeated value"
   ]
  },
  {
   "cell_type": "code",
   "execution_count": 1,
   "id": "eab180b8-e55d-4dfa-873f-a01be4a00a34",
   "metadata": {},
   "outputs": [],
   "source": [
    "import pandas as pd\n"
   ]
  },
  {
   "cell_type": "code",
   "execution_count": 4,
   "id": "7eafc6a5-501b-402e-b0c9-fd3d63d36030",
   "metadata": {},
   "outputs": [],
   "source": [
    "df1=[178,177,176,177,178.2,178,175,179,180,175,178.9,176.2,177,172.5,178,176.5]\n",
    "df=pd.DataFrame(df1)"
   ]
  },
  {
   "cell_type": "code",
   "execution_count": 8,
   "id": "cf221284-f600-40ce-8b15-483aef8804a0",
   "metadata": {},
   "outputs": [
    {
     "data": {
      "text/plain": [
       "0    177.01875\n",
       "dtype: float64"
      ]
     },
     "execution_count": 8,
     "metadata": {},
     "output_type": "execute_result"
    }
   ],
   "source": [
    "df.mean()"
   ]
  },
  {
   "cell_type": "code",
   "execution_count": 9,
   "id": "73e25743-7c31-4a35-9a21-4f55541c508c",
   "metadata": {},
   "outputs": [
    {
     "data": {
      "text/plain": [
       "0    177.0\n",
       "dtype: float64"
      ]
     },
     "execution_count": 9,
     "metadata": {},
     "output_type": "execute_result"
    }
   ],
   "source": [
    "df.median()"
   ]
  },
  {
   "cell_type": "code",
   "execution_count": 10,
   "id": "dd22c40d-b00b-4343-9d6d-683b1efdd053",
   "metadata": {},
   "outputs": [
    {
     "data": {
      "text/html": [
       "<div>\n",
       "<style scoped>\n",
       "    .dataframe tbody tr th:only-of-type {\n",
       "        vertical-align: middle;\n",
       "    }\n",
       "\n",
       "    .dataframe tbody tr th {\n",
       "        vertical-align: top;\n",
       "    }\n",
       "\n",
       "    .dataframe thead th {\n",
       "        text-align: right;\n",
       "    }\n",
       "</style>\n",
       "<table border=\"1\" class=\"dataframe\">\n",
       "  <thead>\n",
       "    <tr style=\"text-align: right;\">\n",
       "      <th></th>\n",
       "      <th>0</th>\n",
       "    </tr>\n",
       "  </thead>\n",
       "  <tbody>\n",
       "    <tr>\n",
       "      <th>0</th>\n",
       "      <td>177.0</td>\n",
       "    </tr>\n",
       "    <tr>\n",
       "      <th>1</th>\n",
       "      <td>178.0</td>\n",
       "    </tr>\n",
       "  </tbody>\n",
       "</table>\n",
       "</div>"
      ],
      "text/plain": [
       "       0\n",
       "0  177.0\n",
       "1  178.0"
      ]
     },
     "execution_count": 10,
     "metadata": {},
     "output_type": "execute_result"
    }
   ],
   "source": [
    "df.mode()"
   ]
  },
  {
   "cell_type": "code",
   "execution_count": 11,
   "id": "964fc59f-58c5-4371-87f8-ed5e2409593c",
   "metadata": {},
   "outputs": [
    {
     "data": {
      "text/plain": [
       "0    1.847239\n",
       "dtype: float64"
      ]
     },
     "execution_count": 11,
     "metadata": {},
     "output_type": "execute_result"
    }
   ],
   "source": [
    "df.std()"
   ]
  },
  {
   "cell_type": "code",
   "execution_count": null,
   "id": "217a3076-616b-4b76-8d33-07cf73fcf3e9",
   "metadata": {},
   "outputs": [],
   "source": [
    "#range - it tells how much the data has been spread \n",
    "#variance - it tells about how much the data has been spread from the moon \n",
    "#standard deviation - it tells how much to move to find the next point in the dataset itself"
   ]
  },
  {
   "cell_type": "code",
   "execution_count": null,
   "id": "5438ccab-07c7-447b-ab5c-65ab3032179c",
   "metadata": {},
   "outputs": [],
   "source": [
    "#venn diagram is a diagram which tells us about the common variables between the datasets"
   ]
  },
  {
   "cell_type": "code",
   "execution_count": 17,
   "id": "bb9dc85e-87df-4b5f-baa1-70fcbb7d4085",
   "metadata": {},
   "outputs": [
    {
     "name": "stdout",
     "output_type": "stream",
     "text": [
      "{0, 2, 3, 4, 5, 6, 7, 8, 10}\n",
      "{2, 6}\n"
     ]
    }
   ],
   "source": [
    "a={2,3,4,5,6,7}\n",
    "b={0,2,6,8,10}\n",
    "print(a|b) \n",
    "print(a&b)"
   ]
  },
  {
   "cell_type": "code",
   "execution_count": null,
   "id": "3b1d2a88-d0fd-4147-a0e7-8f9aa7491748",
   "metadata": {},
   "outputs": [],
   "source": [
    "#skewness-it is a very imp aspect for reading out data \n",
    "#there are 3 types of skewness. first histrogram has to be made (it tells abou the frequency of data)\n",
    "#then we have to smooth it then we can know which type of skewness it is\n",
    "#right skewness\n",
    "#left skewness\n",
    "#middle skewness"
   ]
  },
  {
   "cell_type": "code",
   "execution_count": null,
   "id": "182ea45d-7d93-4609-a874-a62fd6a78460",
   "metadata": {},
   "outputs": [],
   "source": [
    "#mean will be to the left of median "
   ]
  },
  {
   "cell_type": "code",
   "execution_count": null,
   "id": "124504c5-35b6-4b55-b270-b9bc50d33bd3",
   "metadata": {},
   "outputs": [],
   "source": [
    "#covariance - it tells the relation b/w the 2 data. could be 4 types = ++,+-,--,-+\n",
    "#corration - it tells about the relation but in a specific range -1 +1 all the numbers would \n",
    "#fall here and we can estimate how much the 2 datasets are related"
   ]
  },
  {
   "cell_type": "code",
   "execution_count": null,
   "id": "c4aa9bf3-913f-4eef-b28b-ea36c2838c70",
   "metadata": {},
   "outputs": [],
   "source": [
    "#perfectly lined"
   ]
  },
  {
   "cell_type": "code",
   "execution_count": null,
   "id": "f365864a-c331-496d-a96c-ecf254236886",
   "metadata": {},
   "outputs": [],
   "source": [
    "#outliers= values which seems to be odd one out \n",
    "#[1,2,3,4,5,6,7,70] here 70 is the outlier"
   ]
  }
 ],
 "metadata": {
  "kernelspec": {
   "display_name": "Python 3 (ipykernel)",
   "language": "python",
   "name": "python3"
  },
  "language_info": {
   "codemirror_mode": {
    "name": "ipython",
    "version": 3
   },
   "file_extension": ".py",
   "mimetype": "text/x-python",
   "name": "python",
   "nbconvert_exporter": "python",
   "pygments_lexer": "ipython3",
   "version": "3.10.8"
  }
 },
 "nbformat": 4,
 "nbformat_minor": 5
}
