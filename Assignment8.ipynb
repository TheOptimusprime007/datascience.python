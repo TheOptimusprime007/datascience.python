{
 "cells": [
  {
   "cell_type": "code",
   "execution_count": null,
   "id": "0d1d74bf-7415-41aa-b40e-a5f669c1942b",
   "metadata": {},
   "outputs": [],
   "source": [
    "try:\n",
    "    a1= 1000 ** 10000000\n",
    "    b1= a1 * a1\n",
    "    print(b1)\n",
    "except ArithmeticError as e:\n",
    "    print(\"Overflow error\",e)"
   ]
  },
  {
   "cell_type": "code",
   "execution_count": null,
   "id": "e4188fc9-1feb-4473-b245-4f1f3c900be7",
   "metadata": {},
   "outputs": [],
   "source": []
  },
  {
   "cell_type": "code",
   "execution_count": null,
   "id": "6b855ec4-caca-49cf-b205-e30dd946f047",
   "metadata": {},
   "outputs": [],
   "source": []
  },
  {
   "cell_type": "code",
   "execution_count": null,
   "id": "13c1d2ef-765b-4c76-b6c3-6d47922acde9",
   "metadata": {},
   "outputs": [],
   "source": []
  },
  {
   "cell_type": "code",
   "execution_count": null,
   "id": "3185c234-1891-4178-a22b-a049ae73f735",
   "metadata": {},
   "outputs": [],
   "source": []
  }
 ],
 "metadata": {
  "kernelspec": {
   "display_name": "Python 3 (ipykernel)",
   "language": "python",
   "name": "python3"
  },
  "language_info": {
   "codemirror_mode": {
    "name": "ipython",
    "version": 3
   },
   "file_extension": ".py",
   "mimetype": "text/x-python",
   "name": "python",
   "nbconvert_exporter": "python",
   "pygments_lexer": "ipython3",
   "version": "3.10.8"
  }
 },
 "nbformat": 4,
 "nbformat_minor": 5
}
