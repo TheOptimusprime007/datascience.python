{
 "cells": [
  {
   "cell_type": "code",
   "execution_count": 1,
   "id": "76fd07e1-d390-4d40-af30-e018a72be157",
   "metadata": {},
   "outputs": [
    {
     "name": "stdout",
     "output_type": "stream",
     "text": [
      "<class 'str'>\n",
      "True\n",
      "[3]\n",
      "<class 'complex'>\n",
      "25\n",
      "<class 'float'>\n",
      "s\n",
      "h\n",
      "i\n",
      "v\n",
      "a\n",
      "n\n",
      "s\n",
      "h\n",
      "b\n",
      "a\n",
      "t\n",
      "r\n",
      "a\n",
      "shivanshbatra\n",
      " world\n",
      "<class 'bool'>\n",
      "False\n"
     ]
    }
   ],
   "source": [
    "#Assignment 2\n",
    "\n",
    "#answer1\n",
    "# comments can be made by using # symbol and from multi line comments can be made by using ''' ''' or \"\"\" \"\"\".\n",
    "\n",
    "#answer2\n",
    "#variable is a name given to a memory location to store a value.\n",
    "# we can store date in varible like this a=10 now a holds the vvalue 10.\n",
    "\n",
    "#answer3\n",
    "a='shiv'\n",
    "print(type(a)) # it is a string value \n",
    "print(bool(a)) # changed string variavle to boolean\n",
    "\n",
    "\n",
    "#answer4 \n",
    "# we can write and execute a python script from command line by using python filename.py\n",
    "\n",
    "#answer5\n",
    "my_list=[1,2,3,4,5]\n",
    "print(my_list[2:3]) # prints 3\n",
    "\n",
    "#answer6\n",
    "#complex number is represented by x+yj where x is real part and y is imaginary part.\n",
    "b=2+3j\n",
    "print(type(b))\n",
    "\n",
    "#answer7\n",
    "#correct way to store 25 in variable named age is \n",
    "age=25\n",
    "print(age)\n",
    "\n",
    "#answer8\n",
    "price=99.9\n",
    "print(type(price)) # it is a float value   \n",
    "\n",
    "#answer9\n",
    "name=\"shivanshbatra\"\n",
    "for i in range(0,len(name)):\n",
    "    print(name[i])\n",
    "\n",
    "print(name) # prints the name\n",
    "\n",
    "#answer10\n",
    "name=\"hello world\"\n",
    "print(name[5:])\n",
    "\n",
    "#answer11\n",
    "is_student=True\n",
    "print(type(is_student)) # it is a boolean value\n",
    "not_student=not is_student\n",
    "print(not_student)\n"
   ]
  },
  {
   "cell_type": "code",
   "execution_count": null,
   "id": "8ea120ac-a123-47d9-b3af-987969cc4d9e",
   "metadata": {},
   "outputs": [],
   "source": []
  }
 ],
 "metadata": {
  "kernelspec": {
   "display_name": "Python 3 (ipykernel)",
   "language": "python",
   "name": "python3"
  },
  "language_info": {
   "codemirror_mode": {
    "name": "ipython",
    "version": 3
   },
   "file_extension": ".py",
   "mimetype": "text/x-python",
   "name": "python",
   "nbconvert_exporter": "python",
   "pygments_lexer": "ipython3",
   "version": "3.10.8"
  }
 },
 "nbformat": 4,
 "nbformat_minor": 5
}
